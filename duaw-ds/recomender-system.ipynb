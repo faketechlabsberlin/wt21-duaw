{
 "cells": [
  {
   "cell_type": "markdown",
   "metadata": {},
   "source": [
    "# DUAW recomender system"
   ]
  },
  {
   "cell_type": "code",
   "execution_count": 2,
   "metadata": {},
   "outputs": [],
   "source": [
    "%matplotlib inline\n",
    "import matplotlib.pyplot as plt\n",
    "import seaborn as sns\n",
    "import pandas as pd\n",
    "import numpy as np"
   ]
  },
  {
   "cell_type": "code",
   "execution_count": 16,
   "metadata": {},
   "outputs": [],
   "source": [
    "import warnings\n",
    "warnings.filterwarnings(\"ignore\")"
   ]
  },
  {
   "cell_type": "code",
   "execution_count": 17,
   "metadata": {},
   "outputs": [],
   "source": [
    "def display_all(df):\n",
    "    with pd.option_context('display.max_rows',None,'display.max_columns', None):\n",
    "        display(df)  "
   ]
  },
  {
   "cell_type": "markdown",
   "metadata": {},
   "source": [
    "## API request Repository names and description\n",
    "https://www.nylas.com/blog/use-python-requests-module-rest-apis/"
   ]
  },
  {
   "cell_type": "code",
   "execution_count": 18,
   "metadata": {},
   "outputs": [],
   "source": [
    "import requests"
   ]
  },
  {
   "cell_type": "code",
   "execution_count": 19,
   "metadata": {},
   "outputs": [
    {
     "name": "stdout",
     "output_type": "stream",
     "text": [
      "<class 'list'>\n"
     ]
    }
   ],
   "source": [
    "url = \"https://api.github.com/orgs/faketechlabsberlin/repos\"\n",
    "repos = requests.get(url)\n",
    "repos_json = repos.json()\n",
    "print(type(repos_json))"
   ]
  },
  {
   "cell_type": "code",
   "execution_count": 20,
   "metadata": {},
   "outputs": [],
   "source": [
    "#Authentification for the get API\n",
    "#requests.get('https://api.github.com/user', auth=HTTPBasicAuth('username', 'password'))"
   ]
  },
  {
   "cell_type": "code",
   "execution_count": 21,
   "metadata": {},
   "outputs": [],
   "source": [
    "data_df = pd.DataFrame(repos_json)"
   ]
  },
  {
   "cell_type": "markdown",
   "metadata": {},
   "source": [
    "### Similarity analysis"
   ]
  },
  {
   "cell_type": "code",
   "execution_count": 22,
   "metadata": {},
   "outputs": [],
   "source": [
    "from sentence_transformers import SentenceTransformer\n",
    "from sklearn.metrics.pairwise import euclidean_distances\n",
    "from sklearn.metrics.pairwise import cosine_similarity"
   ]
  },
  {
   "cell_type": "code",
   "execution_count": 30,
   "metadata": {},
   "outputs": [],
   "source": [
    "corpus = data_df.description\n",
    "repo_names = data_df.name"
   ]
  },
  {
   "cell_type": "markdown",
   "metadata": {},
   "source": [
    "##### 1) vectorization - Sentence Transformation using BERT  'all-mpnet-base-v2' "
   ]
  },
  {
   "cell_type": "markdown",
   "metadata": {},
   "source": [
    "**BERT Model 2: all-mpnet-base-v2** \n",
    "https://huggingface.co/sentence-transformers/all-mpnet-base-v2"
   ]
  },
  {
   "cell_type": "code",
   "execution_count": 38,
   "metadata": {},
   "outputs": [],
   "source": [
    "model_2 = 'all-mpnet-base-v2' "
   ]
  },
  {
   "cell_type": "code",
   "execution_count": 39,
   "metadata": {},
   "outputs": [
    {
     "data": {
      "text/plain": [
       "(12, 768)"
      ]
     },
     "execution_count": 39,
     "metadata": {},
     "output_type": "execute_result"
    }
   ],
   "source": [
    "sen = corpus\n",
    "model = SentenceTransformer(model_2)#''\n",
    "sen_embeddings = model.encode(sen)\n",
    "sen_embeddings.shape\n",
    "#Embedding returns a dense matrix, where each row represents the vectorized text for one project, that can be further analysed"
   ]
  },
  {
   "cell_type": "markdown",
   "metadata": {},
   "source": [
    "##### 2)  Pairwise similarity analysis for all repositories"
   ]
  },
  {
   "cell_type": "code",
   "execution_count": 40,
   "metadata": {},
   "outputs": [],
   "source": [
    "model_2_cosine_df =  pd.DataFrame(cosine_similarity(sen_embeddings))"
   ]
  },
  {
   "cell_type": "markdown",
   "metadata": {},
   "source": [
    "##### 3) Conversion of results into list of results, sorted from most similar to least similar"
   ]
  },
  {
   "cell_type": "code",
   "execution_count": 41,
   "metadata": {},
   "outputs": [],
   "source": [
    "#sorting of results from similarity analysis\n",
    "def sorted_results_by_name(df = []):\n",
    "    list_of_lists =[]\n",
    "    for each in df.columns: # for each column in data frame\n",
    "        list_series=[]\n",
    "        current_series = df[each]\n",
    "        sorted_series = current_series.sort_values(ascending=False)\n",
    "       # return list with repositoryies\n",
    "        \n",
    "        for each in sorted_series.index:\n",
    "            list_series.append(repo_names[each]) # append list \n",
    "        list_of_lists.append(list_series)\n",
    "\n",
    "    return pd.DataFrame(list_of_lists)"
   ]
  },
  {
   "cell_type": "code",
   "execution_count": 42,
   "metadata": {},
   "outputs": [],
   "source": [
    "results_df = sorted_results_by_name(df = model_2_cosine_df)\n",
    "highest_results=results_df.iloc[:,0:4]"
   ]
  },
  {
   "cell_type": "markdown",
   "metadata": {},
   "source": [
    "## export results into JSON file"
   ]
  },
  {
   "cell_type": "code",
   "execution_count": 43,
   "metadata": {},
   "outputs": [],
   "source": [
    "import json"
   ]
  },
  {
   "cell_type": "code",
   "execution_count": 44,
   "metadata": {},
   "outputs": [],
   "source": [
    "# creat a dictionary from Dataframe results\n",
    "highest_results_dic = highest_results.set_index(0).T.to_dict('list')"
   ]
  },
  {
   "cell_type": "code",
   "execution_count": 45,
   "metadata": {},
   "outputs": [],
   "source": [
    "# Convert Dictionary to JSON and export it to a JSON file\n",
    "#highest_results_dic_json = json.dumps(highest_results_dic, sort_keys=True, indent=4)\n",
    "with open('recomendations.json', 'w') as f:\n",
    "    json.dump(highest_results_dic, f,  sort_keys=True, indent=4)"
   ]
  },
  {
   "cell_type": "code",
   "execution_count": null,
   "metadata": {},
   "outputs": [],
   "source": []
  }
 ],
 "metadata": {
  "kernelspec": {
   "display_name": "Python 3",
   "language": "python",
   "name": "python3"
  },
  "language_info": {
   "codemirror_mode": {
    "name": "ipython",
    "version": 3
   },
   "file_extension": ".py",
   "mimetype": "text/x-python",
   "name": "python",
   "nbconvert_exporter": "python",
   "pygments_lexer": "ipython3",
   "version": "3.7.4"
  }
 },
 "nbformat": 4,
 "nbformat_minor": 2
}
